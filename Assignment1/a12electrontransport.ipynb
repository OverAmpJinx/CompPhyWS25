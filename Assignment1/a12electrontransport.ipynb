{
 "cells": [
  {
   "cell_type": "markdown",
   "metadata": {},
   "source": [
    "# 1.2 Electron Transport in molec. dingenskirchens"
   ]
  },
  {
   "cell_type": "code",
   "execution_count": 1,
   "metadata": {},
   "outputs": [],
   "source": [
    "import numpy as np\n",
    "import matplotlib.pyplot as plt"
   ]
  },
  {
   "cell_type": "markdown",
   "metadata": {},
   "source": [
    "### Unterpunkt b: Implementing Gauss Seidel & Testing\n",
    "Also basically wird mit dem Gauss Seidel Algorythmus ein Gleichungssystem der Form Ax=b für x gelöst, wobei A die zufäll"
   ]
  },
  {
   "cell_type": "code",
   "execution_count": 2,
   "metadata": {},
   "outputs": [
    {
     "name": "stderr",
     "output_type": "stream",
     "text": [
      "No artists with labels found to put in legend.  Note that artists whose label start with an underscore are ignored when legend() is called with no argument.\n"
     ]
    },
    {
     "name": "stdout",
     "output_type": "stream",
     "text": [
      "(100, 100)\n",
      "(100,)\n"
     ]
    },
    {
     "data": {
      "image/png": "[encoded data removed]",
      "text/plain": [
       "<Figure size 800x500 with 1 Axes>"
      ]
     },
     "metadata": {},
     "output_type": "display_data"
    }
   ],
   "source": [
    "# Erstellen einer zufälligen 100x100 Matrix A und Vektor b, die dem Gauss Seidel Verfahren genügen\n",
    "# strikte Diagonale Dominanz der Matrix, was die Konvergenz garantiert\n",
    "n = 100\n",
    "X = np.random.rand(n, n)\n",
    "A= X@X.T \n",
    "np.fill_diagonal(A, np.sum(np.abs(A), axis=1) + 1)  # Diagonalelemente ersetezn durch Summe der Zeilen plus 1 (strikte Diagonale Dominanz)\n",
    "b = np.random.rand(n)\n",
    "\n",
    "\n",
    "print(np.shape(A))\n",
    "print(np.shape(b)) \n",
    "\n",
    "# Definiere Gauss-Seidel-Verfahrens\n",
    "def gauss_seidl(A, b, max_iters=20, tol=1e-10): # max_iters: maximale Anzahl an Iterationen, tol: Toleranz für Abbruch (um Endlosschleifen zu vermeiden)\n",
    "    n = b.size\n",
    "    x = np.zeros_like(b, dtype=complex) # Anfangslösung x^(0) = 0 vektor\n",
    "\n",
    "    errs = [] # Liste zur Speicherung der Fehlerwerte pro Iteration, anfangs leer\n",
    "    for _ in range(max_iters): # Diese Schleife ersetzt immer en ganzen Vektor x^(p) durch x^(p+1)\n",
    "        x_old = x.copy()\n",
    "        for i in range(n): # Diese Schleife berechnet die i-te Komponente von x^(p+1) \n",
    "            s1 = A[i, :i] @ x[:i]          # Summe über neue Werte j<i (Berechnet mit Skalarprodukt weil SP eine Summe ist)\n",
    "            s2 = A[i, i+1:] @ x_old[i+1:]  # Summe über alte Werte j>i\n",
    "            x[i] = (b[i] - s1 - s2) / A[i, i] # Update der i-ten Komponente von x\n",
    "\n",
    "        r = b - A @ x # Residuum r = b - A x^(p)\n",
    "        err = np.sum(np.abs(r))     # geforderte Größe: Summe |b - A x^(p)| als Einzelwert\n",
    "        errs.append(err) # Fehlerwert zur Liste der Fehlerwerte errs hinzufügen\n",
    "        if err < tol: # wenn Fehler kleiner als Toleranz, Abbruch\n",
    "            break\n",
    "    return x, np.array(errs)\n",
    "\n",
    "x, errs = gauss_seidl(A, b, max_iters=1000, tol=1e-12)\n",
    "\n",
    "# Plot\n",
    "plt.figure(figsize=(8, 5))\n",
    "plt.plot(errs, marker='o', linestyle='-', markersize=3)\n",
    "#plt.yscale('log')  # Logarithmische Skalierung der y-Achse wie in Angabe empfohlen\n",
    "plt.xlabel('Iterationen p', fontsize=12)\n",
    "plt.ylabel(r'$\\sum_i |b_i - (A x^{(p)})_i|$', fontsize=12)\n",
    "plt.title('Gauss–Seidel: Residuum in L1-Norm pro Iteration')\n",
    "plt.legend()\n",
    "plt.show()"
   ]
  },
  {
   "cell_type": "markdown",
   "metadata": {},
   "source": [
    "### Unterpunkt c: Ringfunktion"
   ]
  },
  {
   "cell_type": "code",
   "execution_count": 3,
   "metadata": {},
   "outputs": [
    {
     "name": "stdout",
     "output_type": "stream",
     "text": [
      "[[-3. +0.5j -2.6+0.j   0. +0.j   0. +0.j   0. +0.j  -2.6+0.j ]\n",
      " [-2.6+0.j  -3. +0.j  -2.6+0.j   0. +0.j   0. +0.j   0. +0.j ]\n",
      " [ 0. +0.j  -2.6+0.j  -3. +0.5j -2.6+0.j   0. +0.j   0. +0.j ]\n",
      " [ 0. +0.j   0. +0.j  -2.6+0.j  -3. +0.j  -2.6+0.j   0. +0.j ]\n",
      " [ 0. +0.j   0. +0.j   0. +0.j  -2.6+0.j  -3. +0.j  -2.6+0.j ]\n",
      " [-2.6+0.j   0. +0.j   0. +0.j   0. +0.j  -2.6+0.j  -3. +0.j ]]\n",
      "[[-3. +0.5j -2.6+0.j   0. +0.j   0. +0.j   0. +0.j  -2.6+0.j ]\n",
      " [-2.6+0.j  -3. +0.j  -2.6+0.j   0. +0.j   0. +0.j   0. +0.j ]\n",
      " [ 0. +0.j  -2.6+0.j  -3. +0.j  -2.6+0.j   0. +0.j   0. +0.j ]\n",
      " [ 0. +0.j   0. +0.j  -2.6+0.j  -3. +0.5j -2.6+0.j   0. +0.j ]\n",
      " [ 0. +0.j   0. +0.j   0. +0.j  -2.6+0.j  -3. +0.j  -2.6+0.j ]\n",
      " [-2.6+0.j   0. +0.j   0. +0.j   0. +0.j  -2.6+0.j  -3. +0.j ]]\n",
      "HR: [[ 0.  -2.6  0.   0.   0.  -2.6]\n",
      " [-2.6  0.  -2.6  0.   0.   0. ]\n",
      " [ 0.  -2.6  0.  -2.6  0.   0. ]\n",
      " [ 0.   0.  -2.6  0.  -2.6  0. ]\n",
      " [ 0.   0.   0.  -2.6  0.  -2.6]\n",
      " [-2.6  0.   0.   0.  -2.6  0. ]]\n"
     ]
    }
   ],
   "source": [
    "def ring(N, t, E, delta, alpha, beta):\n",
    "    \n",
    "    HR = np.zeros((N, N), dtype=float)\n",
    "    for i in range(N-1):\n",
    "        HR[i, i+1] = t # Matrix einträge ij sind t für benachbarte i,j (1,2), (2,3), ... (6,1)\n",
    "        HR[i+1, i] = t # auch (2,1), (3,2), ... (1,6) sind t\n",
    "    HR[0, N-1] = t   # 1 ist mit N verbunden\n",
    "    HR[N-1, 0] = t\n",
    "\n",
    "    # Delta matrix ist delta an alpha, beta positionen, sonst 0\n",
    "    Delta = np.zeros((N, N), dtype=float)\n",
    "    Delta[alpha-1, alpha-1] = delta #-1 weil python 0-indexiert und physikalisch 1-indexiert\n",
    "    Delta[beta-1,  beta-1]  = delta\n",
    "\n",
    "    # A(E) = HR - E I + i Delta\n",
    "    A = HR - E*np.eye(N) + 1j*Delta # np.eye(N) ist Einheitsmatrix NxN\n",
    "    return A\n",
    "\n",
    "A1 = ring(N=6, t=-2.6, E=3, delta=0.5, alpha=1, beta=3) #E=3 Testwert\n",
    "A2 = ring(N=6, t=-2.6, E=3, delta=0.5, alpha=1, beta=4)\n",
    "\n",
    "print(A1)\n",
    "print(A2)\n",
    "\n",
    "# Hilfsfunktion um nur den Ring-Hamiltonian zu erzeugen\n",
    "def Hr(N, t):\n",
    "    \n",
    "    HR = np.zeros((N, N), dtype=float)\n",
    "    for i in range(N-1):\n",
    "        HR[i, i+1] = t # Matrix einträge ij sind t für benachbarte i,j (1,2), (2,3), ... (6,1)\n",
    "        HR[i+1, i] = t # auch (2,1), (3,2), ... (1,6) sind t\n",
    "    HR[0, N-1] = t   # 1 ist mit N verbunden\n",
    "    HR[N-1, 0] = t\n",
    "    return HR\n",
    "\n",
    "HR = Hr(N=6, t=-2.6)\n",
    "print(\"HR:\", HR) "
   ]
  },
  {
   "cell_type": "markdown",
   "metadata": {},
   "source": [
    "### Unterpunkt d und e: k Shift für Diagonale Dominanz und Konvergenz von Gauss Seidl, berechnung von G"
   ]
  },
  {
   "cell_type": "code",
   "execution_count": 4,
   "metadata": {},
   "outputs": [
    {
     "name": "stdout",
     "output_type": "stream",
     "text": [
      "Green's function G: [[-0.61740229-0.3397918j   0.26703899+0.05360643j  0.3070575 +0.27938674j\n",
      "  -0.67394428-0.31760681j  0.47178188+0.0864958j   0.12722872+0.21903203j]\n",
      " [ 0.26703899+0.05360643j -0.7924356 -0.0955472j   0.26703899+0.05360643j\n",
      "   0.47178188+0.0864958j  -0.81375456-0.15218121j  0.47178188+0.0864958j ]\n",
      " [ 0.3070575 +0.27938674j  0.26703899+0.05360643j -0.61740229-0.3397918j\n",
      "   0.12722872+0.21903203j  0.47178188+0.0864958j  -0.67394428-0.31760681j]\n",
      " [-0.67394428-0.31760681j  0.47178188+0.0864958j   0.12722872+0.21903203j\n",
      "  -0.65952384-0.31532474j  0.25040519+0.14433371j  0.36813573+0.14978207j]\n",
      " [ 0.47178188+0.0864958j  -0.81375456-0.15218121j  0.47178188+0.0864958j\n",
      "   0.25040519+0.14433371j -0.76316998-0.25203846j  0.25040519+0.14433371j]\n",
      " [ 0.12722872+0.21903203j  0.47178188+0.0864958j  -0.67394428-0.31760681j\n",
      "   0.36813573+0.14978207j  0.25040519+0.14433371j -0.65952384-0.31532474j]]\n",
      "Green's function G2: [[-0.47756888-0.42180139j  0.12377147+0.19742668j  0.33475483+0.19400163j\n",
      "  -0.51002785-0.42127446j  0.33475483+0.19400163j  0.12377147+0.19742668j]\n",
      " [ 0.12377147+0.19742668j -0.46578148-0.37462168j  0.07432322+0.19288697j\n",
      "   0.33475483+0.19400163j -0.4978876 -0.35235883j  0.28500076+0.17062412j]\n",
      " [ 0.33475483+0.19400163j  0.07432322+0.19288697j -0.46578148-0.37462168j\n",
      "   0.12377147+0.19742668j  0.28500076+0.17062412j -0.4978876 -0.35235883j]\n",
      " [-0.51002785-0.42127446j  0.33475483+0.19400163j  0.12377147+0.19742668j\n",
      "  -0.47756888-0.42180139j  0.12377147+0.19742668j  0.33475483+0.19400163j]\n",
      " [ 0.33475483+0.19400163j -0.4978876 -0.35235883j  0.28500076+0.17062412j\n",
      "   0.12377147+0.19742668j -0.46578148-0.37462168j  0.07432322+0.19288697j]\n",
      " [ 0.12377147+0.19742668j  0.28500076+0.17062412j -0.4978876 -0.35235883j\n",
      "   0.33475483+0.19400163j  0.07432322+0.19288697j -0.46578148-0.37462168j]]\n",
      "G1(alpha,alpha:) (-0.6174022947587684-0.3397917969314298j)\n",
      "G1(beta,beta:) (-0.6174022947589333-0.3397917969306551j)\n",
      "G1(alpha,beta:) (0.3070574990433697+0.2793867400893269j)\n",
      "G1(beta,alpha:) (0.3070574990429552+0.279386740089737j)\n",
      "G2(alpha,alpha:) (-0.47756887501592477-0.4218013893456243j)\n",
      "G2(beta,beta:) (-0.47756887501590317-0.4218013893455489j)\n",
      "G2(alpha,beta:) (-0.5100278503334221-0.4212744608677892j)\n",
      "G2(beta,alpha:) (-0.5100278503334585-0.4212744608678304j)\n"
     ]
    }
   ],
   "source": [
    "N, t, E, delta, alpha1, beta1, alpha2, beta2 = 6, -2.6, 3.0, 0.5, 1, 3, 1, 4\n",
    "#diese Lösung für e lößt nur für einen Wert für E (hier 3). Die Lösung über den Intervall erfolgt in f\n",
    "I = np.eye(N, dtype=np.complex128)\n",
    "k = 6*1j \n",
    "Ak1 = A1 + k * np.eye(N, dtype=np.complex128)\n",
    "Ak2 = A2 + k * np.eye(N, dtype=np.complex128)\n",
    "\n",
    "def greens_function(Ak, N, k, I):\n",
    "    G = np.zeros((N, N), dtype=np.complex128)\n",
    "    for _ in range(200):  # äußere Schleife für berechnung nueer G\n",
    "        RHS= I + k * G    # RHS right hand side rechte seite der Gelichung\n",
    "        G_new = np.zeros_like(G)\n",
    "        for j in range(N):\n",
    "            G_new[:, j] = gauss_seidl(Ak, RHS[:, j], max_iters=1000, tol=1e-12)[0] # Gauss Seidl auf jede Spalte von RHS anwenden\n",
    "        G = G_new\n",
    "    return G\n",
    "\n",
    "G1 = greens_function(Ak1, N=6, k=k, I=I)\n",
    "G2 = greens_function(Ak2, N=6, k=k, I=I)\n",
    "\n",
    "\n",
    "# Ausgabe der Ergebnisse für E=3 um zu prüfen ob die greens_function richtig funktioniert\n",
    "print(\"Green's function G:\", G1) \n",
    "print(\"Green's function G2:\", G2)\n",
    "print(\"G1(alpha,alpha:)\", G1[alpha1-1, alpha1-1])\n",
    "print(\"G1(beta,beta:)\", G1[beta1-1, beta1-1])\n",
    "print(\"G1(alpha,beta:)\", G1[alpha1-1, beta1-1])\n",
    "print(\"G1(beta,alpha:)\", G1[beta1-1, alpha1-1])\n",
    "print(\"G2(alpha,alpha:)\", G2[alpha2-1, alpha2-1])\n",
    "print(\"G2(beta,beta:)\", G2[beta2-1, beta2-1])\n",
    "print(\"G2(alpha,beta:)\", G2[alpha2-1, beta2-1])\n",
    "print(\"G2(beta,alpha:)\", G2[beta2-1, alpha2-1])\n",
    "\n",
    "\n",
    "\n",
    "\n"
   ]
  },
  {
   "cell_type": "markdown",
   "metadata": {},
   "source": [
    "### Unterpunkt f: mit Intervall E[-6,6]"
   ]
  },
  {
   "cell_type": "code",
   "execution_count": 5,
   "metadata": {},
   "outputs": [],
   "source": [
    "Es = np.linspace(-6.0, 6.0, 200)\n",
    "# greens function über E Intervall [-6,6]\n",
    "def sweep_over_E(N, t, delta, alpha, beta, k): #diese Funktuon nimmt alle paramater und berechnet die Ak Matrizen neu, weil alpha und beta sowieso angegeben werden müssen\n",
    "    I = np.eye(N, dtype=np.complex128)\n",
    "    Gaa, Gbb, Gab, Gba = [], [], [], []\n",
    "    for E in Es:\n",
    "        A0  = ring(N, t, E, delta, alpha, beta)             \n",
    "        Ak  = A0 + k * np.eye(N, dtype=np.complex128)   # Shift Azfgabe d\n",
    "        G   = greens_function(Ak, N=N, k=k, I=I)        # Green aus e für nur ein Es\n",
    "        a, b = alpha-1, beta-1                          # alpha und beta werden hier gebraucht, deswegen kompletteingabe und neuberechnen der Ak\n",
    "        Gaa.append(G[a, a])\n",
    "        Gbb.append(G[b, b])\n",
    "        Gab.append(G[a, b])\n",
    "        Gba.append(G[b, a])\n",
    "    return np.array(Gaa), np.array(Gbb), np.array(Gab), np.array(Gba)\n",
    "\n",
    "Gaa_13, Gbb_13, Gab_13, Gba_13 = sweep_over_E(N, t, delta, alpha1, beta1, k)\n",
    "Gaa_14, Gbb_14, Gab_14, Gba_14 = sweep_over_E(N, t, delta, alpha2, beta2, k)\n",
    "\n",
    "#Transmission mit Betragsquadrat\n",
    "T_13 = np.abs(Gab_13)**2\n",
    "T_14 = np.abs(Gab_14)**2\n",
    "\n",
    "# Plot der Transmission über E\n",
    "plt.figure()\n",
    "plt.plot(Es, T_13, label=\"T(E), (α,β)=(1,3)\")\n",
    "plt.plot(Es, T_14, label=\"T(E), (α,β)=(1,4)\", linestyle='--')\n",
    "for evals in np.linalg.eigvalsh(HR): # plot der eigenwerte, np.linalg.eigvalsh gibt array aus, deswegen for schleife\n",
    "    plt.axvline(evals, color='red')\n",
    "plt.xlabel(\"Energie E\")\n",
    "plt.ylabel(r\"$T(E)=|G_{\\alpha\\beta}(E)|^2$\")\n",
    "plt.title(\"Transmission über E\")\n",
    "plt.legend()\n",
    "plt.tight_layout()\n",
    "plt.show()\n",
    "\n"
   ]
  }
 ],
 "metadata": {
  "kernelspec": {
   "display_name": "Python 3",
   "language": "python",
   "name": "python3"
  },
  "language_info": {
   "codemirror_mode": {
    "name": "ipython",
    "version": 3
   },
   "file_extension": ".py",
   "mimetype": "text/x-python",
   "name": "python",
   "nbconvert_exporter": "python",
   "pygments_lexer": "ipython3",
   "version": "3.12.4"
  }
 },
 "nbformat": 4,
 "nbformat_minor": 2
}
