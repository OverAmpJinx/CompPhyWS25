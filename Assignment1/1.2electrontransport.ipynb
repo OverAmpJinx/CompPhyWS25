{
 "cells": [
  {
   "cell_type": "markdown",
   "metadata": {},
   "source": [
    "# 1.2 Electron Transport in molec. dingenskirchens"
   ]
  },
  {
   "cell_type": "code",
   "execution_count": 56,
   "metadata": {},
   "outputs": [],
   "source": [
    "import numpy as np\n",
    "import matplotlib.pyplot as plt"
   ]
  },
  {
   "cell_type": "markdown",
   "metadata": {},
   "source": [
    "### Unterpunkt b: Implementing Gauss Seidel & Testing"
   ]
  },
  {
   "cell_type": "code",
   "execution_count": 57,
   "metadata": {},
   "outputs": [
    {
     "name": "stdout",
     "output_type": "stream",
     "text": [
      "(100, 100)\n",
      "(100,)\n",
      "[ 1.67476275e-04  2.31137159e-04  6.67519203e-05  2.03080548e-04\n",
      "  2.08049673e-05 -1.44556448e-06  5.53190205e-05  1.49742614e-04\n",
      "  2.54636709e-04  3.04510592e-05 -2.12231136e-05  3.16260137e-04\n",
      "  3.25850046e-04  1.53851429e-04 -7.53896445e-05 -2.93725153e-06\n",
      "  8.78738418e-05  2.48110627e-04 -3.72421309e-05  9.50168420e-05\n",
      "  1.44933887e-04  5.53342031e-05  2.43920531e-04  3.12515679e-04\n",
      "  8.95739118e-05  2.25892715e-04  7.70631510e-05  7.52106771e-05\n",
      "  1.99870444e-04 -1.46173083e-05  2.78353298e-04  1.34850319e-04\n",
      "  2.03291429e-04  1.65984018e-04  6.61949111e-05  2.05754290e-04\n",
      " -9.28629267e-05 -9.30974078e-05 -2.62738288e-05  2.76612212e-04\n",
      "  1.58138107e-04  2.67022794e-04  1.14071948e-04  2.63796121e-04\n",
      "  1.62819551e-04  1.99351112e-06  1.48902836e-04 -3.28606682e-05\n",
      "  1.63758605e-04  1.09932428e-04  5.86611382e-06  1.52916726e-04\n",
      "  2.79864665e-05  1.37977993e-04  1.04746246e-04  3.10977677e-04\n",
      " -4.89590230e-06  1.80272260e-05  2.20839489e-04  3.40261061e-05\n",
      "  8.87705483e-05  1.33360437e-04 -3.98783113e-06 -9.46203678e-05\n",
      "  6.54870939e-05  1.44783882e-04  1.10909890e-04  1.88698694e-04\n",
      " -7.96160463e-05  4.36437940e-05 -7.28384744e-05  2.74415986e-04\n",
      "  2.16909109e-04  1.05970891e-04  5.22013951e-05  3.60517371e-07\n",
      "  1.74906512e-04  3.16330139e-04 -1.34585810e-05  9.77790507e-05\n",
      "  1.57658851e-04  2.97732543e-04  4.92894346e-05 -1.00584599e-04\n",
      "  7.53922173e-06 -1.27321294e-05  1.35040078e-04 -2.98498692e-06\n",
      "  1.46032435e-04 -4.92108356e-05  5.17429933e-07  2.74205623e-04\n",
      "  1.07666699e-06  2.28613026e-05 -3.79752141e-05 -2.41710765e-05\n",
      "  1.31945524e-04  8.25273747e-06  2.69402743e-04  3.34101192e-05]\n"
     ]
    }
   ],
   "source": [
    "#Erstellen einer zufälligen 100x100 Matrix A und Vektor b, die dem Gauss Seidel Verfahren genügen\n",
    "#strikte Diagonale Dominanz der Matrix, was die Konvergenz garantiert, oder die Symmetrie und positive Definitheit der Matrix\n",
    "X = np.random.rand(100, 100)\n",
    "A= X@X.T \n",
    "np.fill_diagonal(A, np.sum(np.abs(A), axis=1) + 1)  #Diagonalelemente setzen, um strikte Diagonaldominanz zu garantieren\n",
    "b = np.random.rand(100)\n",
    "\n",
    "\n",
    "print(np.shape(A))\n",
    "print(np.shape(b)) #XD\n",
    "\n",
    "#Start Gauss-Seidel-Verfahrens\n",
    "def gauss_seidl(A,b):\n",
    "    x = np.zeros_like(b)\n",
    "    n=len(b)\n",
    "\n",
    "    for it_count in range(1000):\n",
    "        x_neu= np.copy(x)\n",
    "        for i in range(n):\n",
    "            sum1= A[i,:i] @x_neu[:i]\n",
    "            sum2= A[i,i+1:] @ x[i+1:]\n",
    "            x_neu[i]= (b[i]-sum1-sum2)/A[i,i] #Formel aus Wikipedia\n",
    "        if np.allclose(x, x_neu, rtol=1e-10):\n",
    "            break\n",
    "        x= x_neu\n",
    "    return x\n",
    "\n",
    "x= gauss_seidl(A,b)\n",
    "print(x)\n",
    "\n",
    "#okokokokok"
   ]
  },
  {
   "cell_type": "code",
   "execution_count": null,
   "metadata": {},
   "outputs": [],
   "source": []
  },
  {
   "cell_type": "markdown",
   "metadata": {},
   "source": []
  }
 ],
 "metadata": {
  "kernelspec": {
   "display_name": "Python 3",
   "language": "python",
   "name": "python3"
  },
  "language_info": {
   "codemirror_mode": {
    "name": "ipython",
    "version": 3
   },
   "file_extension": ".py",
   "mimetype": "text/x-python",
   "name": "python",
   "nbconvert_exporter": "python",
   "pygments_lexer": "ipython3",
   "version": "3.12.4"
  }
 },
 "nbformat": 4,
 "nbformat_minor": 2
}
