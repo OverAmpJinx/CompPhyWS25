{
 "cells": [
  {
   "cell_type": "markdown",
   "metadata": {},
   "source": [
    "# 1.2 Electron Transport in molec. dingenskirchens"
   ]
  },
  {
   "cell_type": "code",
   "execution_count": 21,
   "metadata": {},
   "outputs": [],
   "source": [
    "import numpy as np\n",
    "import matplotlib.pyplot as plt"
   ]
  },
  {
   "cell_type": "markdown",
   "metadata": {},
   "source": [
    "### Unterpunkt b: Implementing Gauss Seidel & Testing\n",
    "Also basically wird mit dem Gauss Seidel Algorythmus ein Gleichungssystem der Form Ax=b für x gelöst, wobei A die zufäll"
   ]
  },
  {
   "cell_type": "code",
   "execution_count": 22,
   "metadata": {},
   "outputs": [
    {
     "name": "stderr",
     "output_type": "stream",
     "text": [
      "No artists with labels found to put in legend.  Note that artists whose label start with an underscore are ignored when legend() is called with no argument.\n"
     ]
    },
    {
     "name": "stdout",
     "output_type": "stream",
     "text": [
      "(100, 100)\n",
      "(100,)\n"
     ]
    },
    {
     "data": {
      "image/png": "[encoded data removed]",
      "text/plain": [
       "<Figure size 800x500 with 1 Axes>"
      ]
     },
     "metadata": {},
     "output_type": "display_data"
    }
   ],
   "source": [
    "# Erstellen einer zufälligen 100x100 Matrix A und Vektor b, die dem Gauss Seidel Verfahren genügen\n",
    "# strikte Diagonale Dominanz der Matrix, was die Konvergenz garantiert\n",
    "n = 100\n",
    "X = np.random.rand(n, n)\n",
    "A= X@X.T \n",
    "np.fill_diagonal(A, np.sum(np.abs(A), axis=1) + 1)  # Diagonalelemente ersetezn durch Summe der Zeilen plus 1 (strikte Diagonale Dominanz)\n",
    "b = np.random.rand(n)\n",
    "\n",
    "\n",
    "print(np.shape(A))\n",
    "print(np.shape(b)) \n",
    "\n",
    "# Definiere Gauss-Seidel-Verfahrens\n",
    "def gauss_seidl(A, b, max_iters=20, tol=1e-10): # max_iters: maximale Anzahl an Iterationen, tol: Toleranz für Abbruch (um Endlosschleifen zu vermeiden)\n",
    "    n = b.size\n",
    "    x = np.zeros_like(b, dtype=complex) # Anfangslösung x^(0) = 0 vektor\n",
    "\n",
    "    errs = [] # Liste zur Speicherung der Fehlerwerte pro Iteration, anfangs leer\n",
    "    for _ in range(max_iters): # Diese Schleife ersetzt immer en ganzen Vektor x^(p) durch x^(p+1)\n",
    "        x_old = x.copy()\n",
    "        for i in range(n): # Diese Schleife berechnet die i-te Komponente von x^(p+1) \n",
    "            s1 = A[i, :i] @ x[:i]          # Summe über neue Werte j<i (Berechnet mit Skalarprodukt weil SP eine Summe ist)\n",
    "            s2 = A[i, i+1:] @ x_old[i+1:]  # Summe über alte Werte j>i\n",
    "            x[i] = (b[i] - s1 - s2) / A[i, i] # Update der i-ten Komponente von x\n",
    "\n",
    "        r = b - A @ x # Residuum r = b - A x^(p)\n",
    "        err = np.sum(np.abs(r))     # geforderte Größe: Summe |b - A x^(p)| als Einzelwert\n",
    "        errs.append(err) # Fehlerwert zur Liste der Fehlerwerte errs hinzufügen\n",
    "        if err < tol: # wenn Fehler kleiner als Toleranz, Abbruch\n",
    "            break\n",
    "    return x, np.array(errs)\n",
    "\n",
    "x, errs = gauss_seidl(A, b, max_iters=1000, tol=1e-12)\n",
    "\n",
    "# Plot\n",
    "plt.figure(figsize=(8, 5))\n",
    "plt.plot(errs, marker='o', linestyle='-', markersize=3)\n",
    "#plt.yscale('log')  # Logarithmische Skalierung der y-Achse wie in Angabe empfohlen\n",
    "plt.xlabel('Iterationen p', fontsize=12)\n",
    "plt.ylabel(r'$\\sum_i |b_i - (A x^{(p)})_i|$', fontsize=12)\n",
    "plt.title('Gauss–Seidel: Residuum in L1-Norm pro Iteration')\n",
    "plt.legend()\n",
    "plt.show()"
   ]
  },
  {
   "cell_type": "markdown",
   "metadata": {},
   "source": [
    "Unterpunkt c: Ringfunktion"
   ]
  },
  {
   "cell_type": "code",
   "execution_count": 23,
   "metadata": {},
   "outputs": [
    {
     "name": "stdout",
     "output_type": "stream",
     "text": [
      "[[-3. +0.5j -2.6+0.j   0. +0.j   0. +0.j   0. +0.j  -2.6+0.j ]\n",
      " [-2.6+0.j  -3. +0.j  -2.6+0.j   0. +0.j   0. +0.j   0. +0.j ]\n",
      " [ 0. +0.j  -2.6+0.j  -3. +0.5j -2.6+0.j   0. +0.j   0. +0.j ]\n",
      " [ 0. +0.j   0. +0.j  -2.6+0.j  -3. +0.j  -2.6+0.j   0. +0.j ]\n",
      " [ 0. +0.j   0. +0.j   0. +0.j  -2.6+0.j  -3. +0.j  -2.6+0.j ]\n",
      " [-2.6+0.j   0. +0.j   0. +0.j   0. +0.j  -2.6+0.j  -3. +0.j ]]\n",
      "[[-3. +0.5j -2.6+0.j   0. +0.j   0. +0.j   0. +0.j  -2.6+0.j ]\n",
      " [-2.6+0.j  -3. +0.j  -2.6+0.j   0. +0.j   0. +0.j   0. +0.j ]\n",
      " [ 0. +0.j  -2.6+0.j  -3. +0.j  -2.6+0.j   0. +0.j   0. +0.j ]\n",
      " [ 0. +0.j   0. +0.j  -2.6+0.j  -3. +0.5j -2.6+0.j   0. +0.j ]\n",
      " [ 0. +0.j   0. +0.j   0. +0.j  -2.6+0.j  -3. +0.j  -2.6+0.j ]\n",
      " [-2.6+0.j   0. +0.j   0. +0.j   0. +0.j  -2.6+0.j  -3. +0.j ]]\n",
      "HR: [[ 0.  -2.6  0.   0.   0.  -2.6]\n",
      " [-2.6  0.  -2.6  0.   0.   0. ]\n",
      " [ 0.  -2.6  0.  -2.6  0.   0. ]\n",
      " [ 0.   0.  -2.6  0.  -2.6  0. ]\n",
      " [ 0.   0.   0.  -2.6  0.  -2.6]\n",
      " [-2.6  0.   0.   0.  -2.6  0. ]]\n"
     ]
    }
   ],
   "source": [
    "import numpy as np\n",
    "\n",
    "def ring(N, t, E, delta, alpha, beta):\n",
    "    \n",
    "    HR = np.zeros((N, N), dtype=float)\n",
    "    for i in range(N-1):\n",
    "        HR[i, i+1] = t # Matrix einträge ij sind t für benachbarte i,j (1,2), (2,3), ... (6,1)\n",
    "        HR[i+1, i] = t # auch (2,1), (3,2), ... (1,6) sind t\n",
    "    HR[0, N-1] = t   # 1 ist mit N verbunden\n",
    "    HR[N-1, 0] = t\n",
    "\n",
    "    # Delta matrix ist delta an alpha, beta positionen, sonst 0\n",
    "    Delta = np.zeros((N, N), dtype=float)\n",
    "    Delta[alpha-1, alpha-1] = delta #-1 weil python 0-indexiert und physikalisch 1-indexiert\n",
    "    Delta[beta-1,  beta-1]  = delta\n",
    "\n",
    "    # A(E) = HR - E I + i Delta\n",
    "    A = HR - E*np.eye(N) + 1j*Delta # np.eye(N) ist Einheitsmatrix NxN\n",
    "    return A\n",
    "\n",
    "A1 = ring(N=6, t=-2.6, E=3, delta=0.5, alpha=1, beta=3) #E=3 Testwert\n",
    "A2 = ring(N=6, t=-2.6, E=3, delta=0.5, alpha=1, beta=4)\n",
    "\n",
    "print(A1)\n",
    "print(A2)\n",
    "\n",
    "# Hilfsfunktion um nur den Ring-Hamiltonian zu erzeugen\n",
    "def Hr(N, t):\n",
    "    \n",
    "    HR = np.zeros((N, N), dtype=float)\n",
    "    for i in range(N-1):\n",
    "        HR[i, i+1] = t # Matrix einträge ij sind t für benachbarte i,j (1,2), (2,3), ... (6,1)\n",
    "        HR[i+1, i] = t # auch (2,1), (3,2), ... (1,6) sind t\n",
    "    HR[0, N-1] = t   # 1 ist mit N verbunden\n",
    "    HR[N-1, 0] = t\n",
    "    return HR\n",
    "\n",
    "HR = Hr(N=6, t=-2.6)\n",
    "print(\"HR:\", HR) "
   ]
  },
  {
   "cell_type": "markdown",
   "metadata": {},
   "source": [
    "### Unterpunkt d und e: k Shift für Diagonale Dominanz und Konvergenz von Gauss Seidl, berechnung von G"
   ]
  },
  {
   "cell_type": "code",
   "execution_count": 24,
   "metadata": {},
   "outputs": [
    {
     "name": "stdout",
     "output_type": "stream",
     "text": [
      "Green's function G: [[-0.62548031-0.33703573j  0.28279606+0.04758552j  0.29917157+0.2821508j\n",
      "  -0.68225064-0.31562178j  0.48804487+0.08201789j  0.11911432+0.22100655j]\n",
      " [ 0.28279606+0.04758552j -0.82350467-0.08251897j  0.28279606+0.04758552j\n",
      "   0.48804487+0.08201789j -0.84593238-0.14220075j  0.48804487+0.08201789j]\n",
      " [ 0.29917157+0.2821508j   0.28279606+0.04758552j -0.62548031-0.33703573j\n",
      "   0.11911432+0.22100655j  0.48804487+0.08201789j -0.68225064-0.31562178j]\n",
      " [-0.68225064-0.31562178j  0.48804487+0.08201789j  0.11911432+0.22100655j\n",
      "  -0.66798157-0.31412913j  0.26702339+0.1414403j   0.35986806+0.15094875j]\n",
      " [ 0.48804487+0.08201789j -0.84593238-0.14220075j  0.48804487+0.08201789j\n",
      "   0.26702339+0.1414403j  -0.79615837-0.24519827j  0.26702339+0.1414403j ]\n",
      " [ 0.11911432+0.22100655j  0.48804487+0.08201789j -0.68225064-0.31562178j\n",
      "   0.35986806+0.15094875j  0.26702339+0.1414403j  -0.66798157-0.31412913j]]\n",
      "Green's function G2: [[-0.47757643-0.4218051j   0.12377535+0.19742829j  0.33475871+0.19400323j\n",
      "  -0.51003541-0.42127817j  0.33475871+0.19400323j  0.12377535+0.19742829j]\n",
      " [ 0.12377535+0.19742829j -0.82046647-0.29920053j  0.42900422+0.11746446j\n",
      "   0.33475871+0.19400323j -0.85257259-0.27693767j  0.63968177+0.09520161j]\n",
      " [ 0.33475871+0.19400323j  0.42900422+0.11746446j -0.82046647-0.29920053j\n",
      "   0.12377535+0.19742829j  0.63968177+0.09520161j -0.85257259-0.27693767j]\n",
      " [-0.51003541-0.42127817j  0.33475871+0.19400323j  0.12377535+0.19742829j\n",
      "  -0.47757643-0.4218051j   0.12377535+0.19742829j  0.33475871+0.19400323j]\n",
      " [ 0.33475871+0.19400323j -0.85257259-0.27693767j  0.63968177+0.09520161j\n",
      "   0.12377535+0.19742829j -0.82046647-0.29920053j  0.42900422+0.11746446j]\n",
      " [ 0.12377535+0.19742829j  0.63968177+0.09520161j -0.85257259-0.27693767j\n",
      "   0.33475871+0.19400323j  0.42900422+0.11746446j -0.82046647-0.29920053j]]\n",
      "G1(alpha,alpha:) (-0.6254803104245318-0.33703573136049714j)\n",
      "G1(beta,beta:) (-0.6254803104246643-0.33703573135993753j)\n",
      "G1(alpha,beta:) (0.2991715688357981+0.2821507955051866j)\n",
      "G1(beta,alpha:) (0.2991715688356476+0.2821507955057728j)\n",
      "G2(alpha,alpha:) (-0.4775764295957208-0.4218051037238203j)\n",
      "G2(beta,beta:) (-0.4775764295956995-0.42180510372374475j)\n",
      "G2(alpha,beta:) (-0.5100354079809639-0.4212781722564715j)\n",
      "G2(beta,alpha:) (-0.5100354079810003-0.4212781722565126j)\n"
     ]
    }
   ],
   "source": [
    "N, t, E, delta, alpha1, beta1, alpha2, beta2 = 6, -2.6, 3.0, 0.5, 1, 3, 1, 4\n",
    "#diese Lösung für e lößt nur für einen Wert für E (hier 3). Die Lösung über den Intervall erfolgt in f\n",
    "I = np.eye(N, dtype=np.complex128)\n",
    "k = 6*1j \n",
    "Ak1 = A1 + k * np.eye(N, dtype=np.complex128)\n",
    "Ak2 = A2 + k * np.eye(N, dtype=np.complex128)\n",
    "\n",
    "def greens_function(Ak, N, k, I):\n",
    "    G = np.zeros((N, N), dtype=np.complex128)\n",
    "    for _ in range(500):  # äußere Schleife für berechnung nueer G\n",
    "        RHS= I + k * G    # RHS right hand side rechte seite der Gelichung\n",
    "        G_new = np.zeros_like(G)\n",
    "        for j in range(N):\n",
    "            G_new[:, j] = gauss_seidl(Ak, RHS[:, j], max_iters=1000, tol=1e-12)[0] # Gauss Seidl auf jede Spalte von RHS anwenden\n",
    "        G = G_new\n",
    "    return G\n",
    "\n",
    "G1 = greens_function(Ak1, N=6, k=k, I=I)\n",
    "G2 = greens_function(Ak2, N=6, k=k, I=I)\n",
    "\n",
    "\n",
    "# Ausgabe der Ergebnisse für E=3 um zu prüfen ob die greens_function richtig funktioniert\n",
    "print(\"Green's function G:\", G1) \n",
    "print(\"Green's function G2:\", G2)\n",
    "print(\"G1(alpha,alpha:)\", G1[alpha1-1, alpha1-1])\n",
    "print(\"G1(beta,beta:)\", G1[beta1-1, beta1-1])\n",
    "print(\"G1(alpha,beta:)\", G1[alpha1-1, beta1-1])\n",
    "print(\"G1(beta,alpha:)\", G1[beta1-1, alpha1-1])\n",
    "print(\"G2(alpha,alpha:)\", G2[alpha2-1, alpha2-1])\n",
    "print(\"G2(beta,beta:)\", G2[beta2-1, beta2-1])\n",
    "print(\"G2(alpha,beta:)\", G2[alpha2-1, beta2-1])\n",
    "print(\"G2(beta,alpha:)\", G2[beta2-1, alpha2-1])\n",
    "\n",
    "\n",
    "\n",
    "\n"
   ]
  },
  {
   "cell_type": "markdown",
   "metadata": {},
   "source": [
    "### Unterpunkt f: mit Intervall E[-6,6]"
   ]
  },
  {
   "cell_type": "code",
   "execution_count": 25,
   "metadata": {},
   "outputs": [
    {
     "ename": "KeyboardInterrupt",
     "evalue": "",
     "output_type": "error",
     "traceback": [
      "\u001b[1;31m---------------------------------------------------------------------------\u001b[0m",
      "\u001b[1;31mKeyboardInterrupt\u001b[0m                         Traceback (most recent call last)",
      "Cell \u001b[1;32mIn[25], line 17\u001b[0m\n\u001b[0;32m     14\u001b[0m         Gba\u001b[38;5;241m.\u001b[39mappend(G[b, a])\n\u001b[0;32m     15\u001b[0m     \u001b[38;5;28;01mreturn\u001b[39;00m np\u001b[38;5;241m.\u001b[39marray(Gaa), np\u001b[38;5;241m.\u001b[39marray(Gbb), np\u001b[38;5;241m.\u001b[39marray(Gab), np\u001b[38;5;241m.\u001b[39marray(Gba)\n\u001b[1;32m---> 17\u001b[0m Gaa_13, Gbb_13, Gab_13, Gba_13 \u001b[38;5;241m=\u001b[39m \u001b[43msweep_over_E\u001b[49m\u001b[43m(\u001b[49m\u001b[43mN\u001b[49m\u001b[43m,\u001b[49m\u001b[43m \u001b[49m\u001b[43mt\u001b[49m\u001b[43m,\u001b[49m\u001b[43m \u001b[49m\u001b[43mdelta\u001b[49m\u001b[43m,\u001b[49m\u001b[43m \u001b[49m\u001b[43malpha1\u001b[49m\u001b[43m,\u001b[49m\u001b[43m \u001b[49m\u001b[43mbeta1\u001b[49m\u001b[43m,\u001b[49m\u001b[43m \u001b[49m\u001b[43mk\u001b[49m\u001b[43m)\u001b[49m\n\u001b[0;32m     18\u001b[0m Gaa_14, Gbb_14, Gab_14, Gba_14 \u001b[38;5;241m=\u001b[39m sweep_over_E(N, t, delta, alpha2, beta2, k)\n\u001b[0;32m     20\u001b[0m \u001b[38;5;66;03m#Transmission mit Betragsquadrat\u001b[39;00m\n",
      "Cell \u001b[1;32mIn[25], line 9\u001b[0m, in \u001b[0;36msweep_over_E\u001b[1;34m(N, t, delta, alpha, beta, k)\u001b[0m\n\u001b[0;32m      7\u001b[0m A0  \u001b[38;5;241m=\u001b[39m ring(N, t, E, delta, alpha, beta)             \n\u001b[0;32m      8\u001b[0m Ak  \u001b[38;5;241m=\u001b[39m A0 \u001b[38;5;241m+\u001b[39m k \u001b[38;5;241m*\u001b[39m np\u001b[38;5;241m.\u001b[39meye(N, dtype\u001b[38;5;241m=\u001b[39mnp\u001b[38;5;241m.\u001b[39mcomplex128)   \u001b[38;5;66;03m# Shift Azfgabe d\u001b[39;00m\n\u001b[1;32m----> 9\u001b[0m G   \u001b[38;5;241m=\u001b[39m \u001b[43mgreens_function\u001b[49m\u001b[43m(\u001b[49m\u001b[43mAk\u001b[49m\u001b[43m,\u001b[49m\u001b[43m \u001b[49m\u001b[43mN\u001b[49m\u001b[38;5;241;43m=\u001b[39;49m\u001b[43mN\u001b[49m\u001b[43m,\u001b[49m\u001b[43m \u001b[49m\u001b[43mk\u001b[49m\u001b[38;5;241;43m=\u001b[39;49m\u001b[43mk\u001b[49m\u001b[43m,\u001b[49m\u001b[43m \u001b[49m\u001b[43mI\u001b[49m\u001b[38;5;241;43m=\u001b[39;49m\u001b[43mI\u001b[49m\u001b[43m)\u001b[49m        \u001b[38;5;66;03m# Green aus e für nur ein Es\u001b[39;00m\n\u001b[0;32m     10\u001b[0m a, b \u001b[38;5;241m=\u001b[39m alpha\u001b[38;5;241m-\u001b[39m\u001b[38;5;241m1\u001b[39m, beta\u001b[38;5;241m-\u001b[39m\u001b[38;5;241m1\u001b[39m                          \u001b[38;5;66;03m# alpha und beta werden hier gebraucht, deswegen kompletteingabe und neuberechnen der Ak\u001b[39;00m\n\u001b[0;32m     11\u001b[0m Gaa\u001b[38;5;241m.\u001b[39mappend(G[a, a])\n",
      "Cell \u001b[1;32mIn[24], line 14\u001b[0m, in \u001b[0;36mgreens_function\u001b[1;34m(Ak, N, k, I)\u001b[0m\n\u001b[0;32m     12\u001b[0m     G_new \u001b[38;5;241m=\u001b[39m np\u001b[38;5;241m.\u001b[39mzeros_like(G)\n\u001b[0;32m     13\u001b[0m     \u001b[38;5;28;01mfor\u001b[39;00m j \u001b[38;5;129;01min\u001b[39;00m \u001b[38;5;28mrange\u001b[39m(N):\n\u001b[1;32m---> 14\u001b[0m         G_new[:, j] \u001b[38;5;241m=\u001b[39m \u001b[43mgauss_seidl\u001b[49m\u001b[43m(\u001b[49m\u001b[43mAk\u001b[49m\u001b[43m,\u001b[49m\u001b[43m \u001b[49m\u001b[43mRHS\u001b[49m\u001b[43m[\u001b[49m\u001b[43m:\u001b[49m\u001b[43m,\u001b[49m\u001b[43m \u001b[49m\u001b[43mj\u001b[49m\u001b[43m]\u001b[49m\u001b[43m,\u001b[49m\u001b[43m \u001b[49m\u001b[43mmax_iters\u001b[49m\u001b[38;5;241;43m=\u001b[39;49m\u001b[38;5;241;43m1000\u001b[39;49m\u001b[43m,\u001b[49m\u001b[43m \u001b[49m\u001b[43mtol\u001b[49m\u001b[38;5;241;43m=\u001b[39;49m\u001b[38;5;241;43m1e-12\u001b[39;49m\u001b[43m)\u001b[49m[\u001b[38;5;241m0\u001b[39m] \u001b[38;5;66;03m# Gauss Seidl auf jede Spalte von RHS anwenden\u001b[39;00m\n\u001b[0;32m     15\u001b[0m     G \u001b[38;5;241m=\u001b[39m G_new\n\u001b[0;32m     16\u001b[0m \u001b[38;5;28;01mreturn\u001b[39;00m G\n",
      "Cell \u001b[1;32mIn[22], line 24\u001b[0m, in \u001b[0;36mgauss_seidl\u001b[1;34m(A, b, max_iters, tol)\u001b[0m\n\u001b[0;32m     22\u001b[0m     s1 \u001b[38;5;241m=\u001b[39m A[i, :i] \u001b[38;5;241m@\u001b[39m x[:i]          \u001b[38;5;66;03m# Summe über neue Werte j<i (Berechnet mit Skalarprodukt weil SP eine Summe ist)\u001b[39;00m\n\u001b[0;32m     23\u001b[0m     s2 \u001b[38;5;241m=\u001b[39m A[i, i\u001b[38;5;241m+\u001b[39m\u001b[38;5;241m1\u001b[39m:] \u001b[38;5;241m@\u001b[39m x_old[i\u001b[38;5;241m+\u001b[39m\u001b[38;5;241m1\u001b[39m:]  \u001b[38;5;66;03m# Summe über alte Werte j>i\u001b[39;00m\n\u001b[1;32m---> 24\u001b[0m     x[i] \u001b[38;5;241m=\u001b[39m (b[i] \u001b[38;5;241m-\u001b[39m s1 \u001b[38;5;241m-\u001b[39m s2) \u001b[38;5;241m/\u001b[39m A[i, i] \u001b[38;5;66;03m# Update der i-ten Komponente von x\u001b[39;00m\n\u001b[0;32m     26\u001b[0m r \u001b[38;5;241m=\u001b[39m b \u001b[38;5;241m-\u001b[39m A \u001b[38;5;241m@\u001b[39m x \u001b[38;5;66;03m# Residuum r = b - A x^(p)\u001b[39;00m\n\u001b[0;32m     27\u001b[0m err \u001b[38;5;241m=\u001b[39m np\u001b[38;5;241m.\u001b[39msum(np\u001b[38;5;241m.\u001b[39mabs(r))     \u001b[38;5;66;03m# geforderte Größe: Summe |b - A x^(p)| als Einzelwert\u001b[39;00m\n",
      "\u001b[1;31mKeyboardInterrupt\u001b[0m: "
     ]
    }
   ],
   "source": [
    "Es = np.linspace(-6.0, 6.0, 200)\n",
    "# greens function über E Intervall [-6,6]\n",
    "def sweep_over_E(N, t, delta, alpha, beta, k): #diese Funktuon nimmt alle paramater und berechnet die Ak Matrizen neu, weil alpha und beta sowieso angegeben werden müssen\n",
    "    I = np.eye(N, dtype=np.complex128)\n",
    "    Gaa, Gbb, Gab, Gba = [], [], [], []\n",
    "    for E in Es:\n",
    "        A0  = ring(N, t, E, delta, alpha, beta)             \n",
    "        Ak  = A0 + k * np.eye(N, dtype=np.complex128)   # Shift Azfgabe d\n",
    "        G   = greens_function(Ak, N=N, k=k, I=I)        # Green aus e für nur ein Es\n",
    "        a, b = alpha-1, beta-1                          # alpha und beta werden hier gebraucht, deswegen kompletteingabe und neuberechnen der Ak\n",
    "        Gaa.append(G[a, a])\n",
    "        Gbb.append(G[b, b])\n",
    "        Gab.append(G[a, b])\n",
    "        Gba.append(G[b, a])\n",
    "    return np.array(Gaa), np.array(Gbb), np.array(Gab), np.array(Gba)\n",
    "\n",
    "Gaa_13, Gbb_13, Gab_13, Gba_13 = sweep_over_E(N, t, delta, alpha1, beta1, k)\n",
    "Gaa_14, Gbb_14, Gab_14, Gba_14 = sweep_over_E(N, t, delta, alpha2, beta2, k)\n",
    "\n",
    "#Transmission mit Betragsquadrat\n",
    "T_13 = np.abs(Gab_13)**2\n",
    "T_14 = np.abs(Gab_14)**2\n",
    "\n",
    "# Plot der Transmission über E\n",
    "plt.figure()\n",
    "plt.plot(Es, T_13, label=\"T(E), (α,β)=(1,3)\")\n",
    "plt.plot(Es, T_14, label=\"T(E), (α,β)=(1,4)\", linestyle='--')\n",
    "for evals in np.linalg.eigvalsh(HR): # plot der eigenwerte, np.linalg.eigvalsh gibt array aus, deswegen for schleife\n",
    "    plt.axvline(evals, color='red')\n",
    "plt.xlabel(\"Energie E\")\n",
    "plt.ylabel(r\"$T(E)=|G_{\\alpha\\beta}(E)|^2$\")\n",
    "plt.title(\"Transmission über E\")\n",
    "plt.legend()\n",
    "plt.tight_layout()\n",
    "plt.show()\n",
    "\n"
   ]
  }
 ],
 "metadata": {
  "kernelspec": {
   "display_name": "Python 3",
   "language": "python",
   "name": "python3"
  },
  "language_info": {
   "codemirror_mode": {
    "name": "ipython",
    "version": 3
   },
   "file_extension": ".py",
   "mimetype": "text/x-python",
   "name": "python",
   "nbconvert_exporter": "python",
   "pygments_lexer": "ipython3",
   "version": "3.11.9"
  }
 },
 "nbformat": 4,
 "nbformat_minor": 2
}
