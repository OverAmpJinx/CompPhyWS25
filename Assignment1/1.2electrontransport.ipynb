{
 "cells": [
  {
   "cell_type": "markdown",
   "metadata": {},
   "source": [
    "# 1.2 Electron Transport in molec. dingenskirchens"
   ]
  },
  {
   "cell_type": "code",
   "execution_count": 1,
   "metadata": {},
   "outputs": [],
   "source": [
    "import numpy as np\n",
    "import matplotlib.pyplot as plt"
   ]
  },
  {
   "cell_type": "markdown",
   "metadata": {},
   "source": [
    "### Unterpunkt b: Implementing Gauss Seidel & Testing"
   ]
  },
  {
   "cell_type": "code",
   "execution_count": 7,
   "metadata": {},
   "outputs": [
    {
     "name": "stdout",
     "output_type": "stream",
     "text": [
      "(100, 100)\n",
      "(100,)\n"
     ]
    },
    {
     "name": "stderr",
     "output_type": "stream",
     "text": [
      "/var/folders/nb/st7j37jd3rg8m490rhc0l_xw0000gn/T/ipykernel_43465/508037884.py:16: RuntimeWarning: overflow encountered in scalar divide\n",
      "  x_neu[i]= (b[i]-sum1-sum2)/A[i,i] #Formel aus Wikipedia\n",
      "/var/folders/nb/st7j37jd3rg8m490rhc0l_xw0000gn/T/ipykernel_43465/508037884.py:14: RuntimeWarning: invalid value encountered in matmul\n",
      "  sum1= A[i,:i] @x_neu[:i]\n"
     ]
    },
    {
     "name": "stdout",
     "output_type": "stream",
     "text": [
      "[nan nan nan nan nan nan nan nan nan nan nan nan nan nan nan nan nan nan\n",
      " nan nan nan nan nan nan nan nan nan nan nan nan nan nan nan nan nan nan\n",
      " nan nan nan nan nan nan nan nan nan nan nan nan nan nan nan nan nan nan\n",
      " nan nan nan nan nan nan nan nan nan nan nan nan nan nan nan nan nan nan\n",
      " nan nan nan nan nan nan nan nan nan nan nan nan nan nan nan nan nan nan\n",
      " nan nan nan nan nan nan nan nan nan nan]\n"
     ]
    }
   ],
   "source": [
    "#Erstellen einer zufälligen 100x100 Matrix A und Vektor b, die dem Gauss Seidel Verfahren genügen\n",
    "A = np.random.rand(100, 100)\n",
    "b= np.random.rand(100)\n",
    "print(np.shape(A))\n",
    "print(np.shape(b)) #XD\n",
    "\n",
    "#Start Gauss-Seidel-Verfahrens\n",
    "def gauss_seidl(A,b):\n",
    "    x = np.zeros_like(b)\n",
    "    n=len(b)\n",
    "    for it_count in range(1000):\n",
    "        x_neu= np.copy(x)\n",
    "        for i in range(n):\n",
    "            sum1= A[i,:i] @x_neu[:i]\n",
    "            sum2= A[i,i+1:] @ x[i+1:]\n",
    "            x_neu[i]= (b[i]-sum1-sum2)/A[i,i] #Formel aus Wikipedia\n",
    "        if np.allclose(x, x_neu, rtol=1e-10):\n",
    "            break\n",
    "        x= x_neu\n",
    "    return x\n",
    "\n",
    "x= gauss_seidl(A,b)\n",
    "print(x)\n",
    "\n",
    "\n",
    "#okokokokok"
   ]
  }
 ],
 "metadata": {
  "kernelspec": {
   "display_name": "Python 3",
   "language": "python",
   "name": "python3"
  },
  "language_info": {
   "codemirror_mode": {
    "name": "ipython",
    "version": 3
   },
   "file_extension": ".py",
   "mimetype": "text/x-python",
   "name": "python",
   "nbconvert_exporter": "python",
   "pygments_lexer": "ipython3",
   "version": "3.12.4"
  }
 },
 "nbformat": 4,
 "nbformat_minor": 2
}
