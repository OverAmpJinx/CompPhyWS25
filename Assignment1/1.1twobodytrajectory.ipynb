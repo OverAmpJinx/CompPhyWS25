{
 "cells": [
  {
   "cell_type": "markdown",
   "metadata": {},
   "source": [
    "# 1.1 Two Body Trajectory\n",
    "Students: Gabriel Wolf and Jakob Scheiber (Gruppe TU2)"
   ]
  },
  {
   "cell_type": "code",
   "execution_count": 14,
   "metadata": {},
   "outputs": [],
   "source": [
    "import numpy as np\n",
    "import matplotlib.pyplot as plt"
   ]
  },
  {
   "cell_type": "markdown",
   "metadata": {},
   "source": [
    "### Unterpunkt b: Data importieren und Matrix constructen"
   ]
  },
  {
   "cell_type": "code",
   "execution_count": 15,
   "metadata": {},
   "outputs": [
    {
     "name": "stdout",
     "output_type": "stream",
     "text": [
      "(200, 3)\n"
     ]
    }
   ],
   "source": [
    "\n",
    "# Zuerst machen wir mal eine Matrix die eine Ellipse beschreibt, folgt aus Aufgabe a) \n",
    "def design_matrix(theta):\n",
    "    return np.column_stack((np.ones_like(theta), np.cos(theta), np.sin(theta)))\n",
    "\n",
    "# Dann stöpseln wir die Parameter der Ellipse mit der Gewichtung zusammen - Beta wird erst später im Code bestimmt\n",
    "def inv_r(theta,beta):\n",
    "    X = design_matrix(theta)\n",
    "    return X @ beta\n",
    "\n",
    "# Data Importieren, t ist Zeit und r ist Radius\n",
    "#Zusätzlich noch die definition von T und t0\n",
    "data =np.loadtxt(\"Data/Moon-Earth_distance.txt\", skiprows=1 )\n",
    "t=data[:,0]\n",
    "r= data[:,1]\n",
    "\n",
    "T  = 27.55   #Periode -Tage- anomalistischer Monat\n",
    "t0 = 1.71    # Zeitpunkt des ersten perigees- Tage\n",
    "\n",
    "# Jetzt machen wir aus der Zeit aus dem .txt file nen Winkel\n",
    "theta = 2 * np.pi * (t - t0) / T\n",
    "\n",
    "# kurzer Test \n",
    "X= design_matrix(theta)\n",
    "print(X.shape)"
   ]
  },
  {
   "cell_type": "markdown",
   "metadata": {},
   "source": [
    "### Unterpunkt c: Gram Schmidt QR decomposition"
   ]
  },
  {
   "cell_type": "code",
   "execution_count": 17,
   "metadata": {},
   "outputs": [],
   "source": [
    "def gramschmidt_qr(A):\n",
    "    A = np.asarray(A, dtype=float)\n",
    "    m, n = A.shape\n",
    "    Q = np.zeros((m, n), dtype=float)\n",
    "    R = np.zeros((n, n), dtype=float)\n",
    "\n",
    "    for i in range(n):\n",
    "        a_i = A[:, i]  #Spalte a_i von A\n",
    "        u_i = a_i.copy()  # start u_i ← a_i\n",
    "\n",
    "        # subtract projections onto previously computed q_j\n",
    "        for j in range(i):\n",
    "            r_ji =  a_i @ Q[:, j]   # r_{ji} = a_i · q_j\n",
    "            R[j, i] = r_ji\n",
    "            u_i = u_i - r_ji * Q[:, j]    # u_i ← u_i − r_{ji} q_j\n",
    "\n",
    "        # normalize: q_i = u_i / ||u_i||\n",
    "        r_ii = np.linalg.norm(u_i)\n",
    "        q_i = u_i / r_ii\n",
    "\n",
    "        Q[:, i] = q_i\n",
    "        # by the formula, the diagonal is also R_{ii} = a_i · q_i = ||u_i||\n",
    "        R[i, i] = np.dot(a_i, q_i)\n",
    "\n",
    "    return Q, R\n"
   ]
  }
 ],
 "metadata": {
  "kernelspec": {
   "display_name": "Python 3",
   "language": "python",
   "name": "python3"
  },
  "language_info": {
   "codemirror_mode": {
    "name": "ipython",
    "version": 3
   },
   "file_extension": ".py",
   "mimetype": "text/x-python",
   "name": "python",
   "nbconvert_exporter": "python",
   "pygments_lexer": "ipython3",
   "version": "3.12.4"
  }
 },
 "nbformat": 4,
 "nbformat_minor": 2
}
