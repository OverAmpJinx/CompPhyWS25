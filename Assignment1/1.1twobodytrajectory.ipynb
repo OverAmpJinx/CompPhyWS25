{
 "cells": [
  {
   "cell_type": "markdown",
   "metadata": {},
   "source": [
    "# 1.1 Two Body Trajectory\n",
    "Students: Gabriel Wolf and Jakob Scheiber (Gruppe TU2)"
   ]
  },
  {
   "cell_type": "code",
   "execution_count": 61,
   "metadata": {},
   "outputs": [],
   "source": [
    "import numpy as np\n",
    "import matplotlib.pyplot as plt"
   ]
  },
  {
   "cell_type": "markdown",
   "metadata": {},
   "source": [
    "### Unterpunkt b: Data importieren und Matrix constructen"
   ]
  },
  {
   "cell_type": "code",
   "execution_count": 62,
   "metadata": {},
   "outputs": [
    {
     "name": "stdout",
     "output_type": "stream",
     "text": [
      "(200, 3)\n"
     ]
    }
   ],
   "source": [
    "\n",
    "# Zuerst machen wir mal eine Matrix die eine Ellipse beschreibt, folgt aus Aufgabe a) \n",
    "def design_matrix(theta):\n",
    "    return np.column_stack((np.ones_like(theta), np.cos(theta), np.sin(theta)))\n",
    "\n",
    "# Dann stöpseln wir die Parameter der Ellipse mit der Gewichtung zusammen - Beta wird erst später im Code bestimmt\n",
    "def inv_r(theta,beta):\n",
    "    X = design_matrix(theta)\n",
    "    return X @ beta\n",
    "\n",
    "# Data Importieren, t ist Zeit und r ist Radius\n",
    "#Zusätzlich noch die definition von T und t0\n",
    "data =np.loadtxt(\"Data/Moon-Earth_distance.txt\", skiprows=1 )\n",
    "t=data[:,0]\n",
    "r= data[:,1]\n",
    "\n",
    "T= 27.55   #Periode -Tage- anomalistischer Monat\n",
    "t0 = 1.71    # Zeitpunkt des ersten perigees- Tage\n",
    "\n",
    "# Jetzt machen wir aus der Zeit aus dem .txt file nen Winkel\n",
    "theta = 2 * np.pi * (t - t0) / T\n",
    "\n",
    "# kurzer Test \n",
    "X= design_matrix(theta)\n",
    "print(X.shape)    # (n,3) n = Anzahl der Datenpunkte, san in usnerem fall halt 200 data points"
   ]
  },
  {
   "cell_type": "markdown",
   "metadata": {},
   "source": [
    "### Unterpunkt c: Gram Schmidt QR decomposition"
   ]
  },
  {
   "cell_type": "code",
   "execution_count": 63,
   "metadata": {},
   "outputs": [
    {
     "name": "stdout",
     "output_type": "stream",
     "text": [
      "pfeift 1\n",
      "pfeift 2\n",
      "Größe X: (200, 3)\n",
      "Größe R: (3, 3)\n",
      "Größe Q: (200, 3)\n"
     ]
    }
   ],
   "source": [
    "#Decomposen der Matrix A in eine orthogonale Matrix Q und eine obere Dreiecksmatrix R\n",
    "#Das ganze mit einem modifizierten Gram-Schmidt Verfahren\n",
    "#Input: Matrix A, Output: Matrizen Q und R\n",
    "\n",
    "def gramschmidt_qr(A):\n",
    "    #Vorerst mal zu einem numpy array konvertieren und größe definieren\n",
    "    A =np.asarray(A, dtype=float);  m, n = A.shape\n",
    "    Q =np.zeros((m, n))\n",
    "    R =np.zeros((n, n))\n",
    "    #Kopie von A damits nicht zerstört wird\n",
    "    V =A.copy()\n",
    "    R[0,0] = np.linalg.norm(V[:,0])  #ohne das bleibt r00 0 und es gibt nen offenen spot\n",
    "    Q[:,0] = V[:,0] / R[0,0]\n",
    "    for i in range(1, n):\n",
    "        #In dieser Schleife wird die Orthogonalisierung gmacht\n",
    "        for j in range(i):\n",
    "            #In dieser Schleife werden die vorherigen Q Vektoren abgezogen\n",
    "            R[j,i] =V[:,i]@Q[:,j]\n",
    "            V[:,i] = V[:,i] - R[j,i] * Q[:,j]\n",
    "        R[i,i] = np.linalg.norm(V[:,i])\n",
    "        Q[:,i] = V[:,i] / R[i,i]\n",
    "    return Q, R\n",
    "\n",
    "Q,R= gramschmidt_qr(X)\n",
    "\n",
    "#Test obs hinhaut\n",
    "if np.allclose(X, Q @ R):\n",
    "    print(\"pfeift 1\")\n",
    "else:\n",
    "    print(\"nö 1\")\n",
    "    \n",
    "if np.allclose(Q.T @ Q, np.eye(Q.shape[1])):\n",
    "    print(\"pfeift 2\")\n",
    "else: \n",
    "    print(\"nö 2\")\n",
    "#Vewende bei beiden allclose weil der numerische Fehler ignoriert wird\n",
    "\n",
    "print(\"Größe X:\", X.shape)\n",
    "print(\"Größe R:\", R.shape)\n",
    "print(\"Größe Q:\", Q.shape)"
   ]
  },
  {
   "cell_type": "markdown",
   "metadata": {},
   "source": [
    "### Unterpunkt e: Berechnen des Schätzers Beta_dach"
   ]
  },
  {
   "cell_type": "code",
   "execution_count": 64,
   "metadata": {},
   "outputs": [
    {
     "name": "stdout",
     "output_type": "stream",
     "text": [
      "Größe QTy: (3,)\n",
      "BetaHütchen = [2.60061828e-06 1.31269112e-07 8.75174466e-09]\n",
      "BetaHütchen Größe: (3,)\n",
      "Exzentrizität e = 0.050588\n",
      "Größe Hablachse a = 386497.113106 km\n"
     ]
    }
   ],
   "source": [
    "#erster Step: bestimme Q^T * y\n",
    "QTy = Q.T @ (1/r)\n",
    "print(\"Größe QTy:\", QTy.shape)\n",
    "\n",
    "#zweiter Step: löse R * beta = Q^T * y mit Rücksub\n",
    "def backsub(R, b):\n",
    "    n = R.shape[0]\n",
    "    x = np.zeros(n)\n",
    "    for i in range(n - 1, -1, -1):   # von unten nach oben\n",
    "        x[i] = (b[i] - (R[i, i+1:]@x[i+1:]))/ R[i, i]\n",
    "    return x\n",
    "\n",
    "beta_hut = backsub(R, QTy)\n",
    "\n",
    "print(\"BetaHütchen =\", beta_hut) # sollte drei Zahlen, also B1,^B2,^B3 ausspucken\n",
    "print(\"BetaHütchen Größe:\", beta_hut.shape)\n",
    "b0, b1, b2 = beta_hut\n",
    "#Jetzt e und a ausrechnen, herleitung formel siehe COMP UE NOTES\n",
    "e = np.sqrt(b1**2 + b2**2) / b0\n",
    "a = (1 + e**2) / (b0 * (1 - e**2))\n",
    "\n",
    "print(f\"Exzentrizität e = {e:.6f}\")\n",
    "print(f\"Größe Hablachse a = {a:.6f} km\") # hier die ergebnisse gerundet auf 6 KS\n",
    "\n"
   ]
  },
  {
   "cell_type": "code",
   "execution_count": null,
   "metadata": {},
   "outputs": [],
   "source": []
  }
 ],
 "metadata": {
  "kernelspec": {
   "display_name": "Python 3",
   "language": "python",
   "name": "python3"
  },
  "language_info": {
   "codemirror_mode": {
    "name": "ipython",
    "version": 3
   },
   "file_extension": ".py",
   "mimetype": "text/x-python",
   "name": "python",
   "nbconvert_exporter": "python",
   "pygments_lexer": "ipython3",
   "version": "3.12.4"
  }
 },
 "nbformat": 4,
 "nbformat_minor": 2
}
