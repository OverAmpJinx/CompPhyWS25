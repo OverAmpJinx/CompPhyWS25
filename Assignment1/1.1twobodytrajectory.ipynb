{
 "cells": [
  {
   "cell_type": "markdown",
   "metadata": {},
   "source": [
    "# 1.1 Two Body Trajectory\n",
    "Students: Gabriel Wolf and Jakob Scheiber (Gruppe TU2)"
   ]
  },
  {
   "cell_type": "code",
   "execution_count": 37,
   "metadata": {},
   "outputs": [],
   "source": [
    "import numpy as np\n",
    "import matplotlib.pyplot as plt"
   ]
  },
  {
   "cell_type": "markdown",
   "metadata": {},
   "source": [
    "### Unterpunkt b: Data importieren und Matrix constructen"
   ]
  },
  {
   "cell_type": "code",
   "execution_count": 38,
   "metadata": {},
   "outputs": [
    {
     "name": "stdout",
     "output_type": "stream",
     "text": [
      "(200, 3)\n"
     ]
    }
   ],
   "source": [
    "\n",
    "# Zuerst machen wir mal eine Matrix die eine Ellipse beschreibt, folgt aus Aufgabe a) \n",
    "def design_matrix(theta):\n",
    "    return np.column_stack((np.ones_like(theta), np.cos(theta), np.sin(theta)))\n",
    "\n",
    "# Dann stöpseln wir die Parameter der Ellipse mit der Gewichtung zusammen - Beta wird erst später im Code bestimmt\n",
    "def inv_r(theta,beta):\n",
    "    X = design_matrix(theta)\n",
    "    return X @ beta\n",
    "\n",
    "# Data Importieren, t ist Zeit und r ist Radius\n",
    "#Zusätzlich noch die definition von T und t0\n",
    "data =np.loadtxt(\"Data/Moon-Earth_distance.txt\", skiprows=1 )\n",
    "t=data[:,0]\n",
    "r= data[:,1]\n",
    "\n",
    "T= 27.55   #Periode -Tage- anomalistischer Monat\n",
    "t0 = 1.71    # Zeitpunkt des ersten perigees- Tage\n",
    "\n",
    "# Jetzt machen wir aus der Zeit aus dem .txt file nen Winkel\n",
    "theta = 2 * np.pi * (t - t0) / T\n",
    "\n",
    "# kurzer Test \n",
    "X= design_matrix(theta)\n",
    "print(X.shape)    # (n,3) n = Anzahl der Datenpunkte, san in usnerem fall halt 200 data points"
   ]
  },
  {
   "cell_type": "markdown",
   "metadata": {},
   "source": [
    "### Unterpunkt c: Gram Schmidt QR decomposition"
   ]
  },
  {
   "cell_type": "code",
   "execution_count": 49,
   "metadata": {},
   "outputs": [
    {
     "name": "stdout",
     "output_type": "stream",
     "text": [
      "pfeift 1\n",
      "pfeift 2\n",
      "Größe X: (200, 3)\n",
      "Größe R: (3, 3)\n",
      "Größe Q: (200, 3)\n"
     ]
    }
   ],
   "source": [
    "#Decomposen der Matrix A in eine orthogonale Matrix Q und eine obere Dreiecksmatrix R\n",
    "#Das ganze mit einem modifizierten Gram-Schmidt Verfahren\n",
    "#Input: Matrix A, Output: Matrizen Q und R\n",
    "# q_i sind die gebildeten Orthonormalvektoren, q_j sind die schon gebildeten Orthonormalvektoren, die abgezogen werden\n",
    "def gramschmidt_qr(A):\n",
    "    A = np.asarray(A, dtype=float)\n",
    "    m, n = A.shape\n",
    "    Q = np.zeros((m, n), dtype=float)\n",
    "    R = np.zeros((n, n), dtype=float)\n",
    "\n",
    "    for i in range(n):\n",
    "        a_i = A[:, i]  #Spalte a_i von A\n",
    "        u_i = a_i.copy() \n",
    "        \n",
    "        for j in range(i): \n",
    "            R[j, i] = a_i @ Q[:, j] \n",
    "            u_i = u_i - (R[j,i]) * Q[:, j]  #u_i = a_i - sum(Skalarprpdukt * q_j) \n",
    "            \n",
    "        r_ii = np.linalg.norm(u_i)\n",
    "        q_i = u_i / r_ii  \n",
    "        \n",
    "        Q[:, i] = q_i\n",
    "        R[i, i] = a_i @ q_i\n",
    "    return Q, R\n",
    "\n",
    "Q,R = gramschmidt_qr(X)\n",
    "\n",
    "#Test obs hinhaut\n",
    "if np.allclose(X, Q @ R):\n",
    "    print(\"pfeift 1\")\n",
    "else:\n",
    "    print(\"nö 1\")\n",
    "if np.allclose(Q.T @ Q, np.eye(Q.shape[1])):\n",
    "    print(\"pfeift 2\")\n",
    "else: \n",
    "    print(\"nö 2\")\n",
    "#Vewende bei beiden allclose weil der numerische Fehler ignoriert wird\n",
    "\n",
    "print(\"Größe X:\", X.shape)\n",
    "print(\"Größe R:\", R.shape)\n",
    "print(\"Größe Q:\", Q.shape)"
   ]
  },
  {
   "cell_type": "markdown",
   "metadata": {},
   "source": [
    "### Unterpunkt e: Berechnen des Schätzers Beta_dach"
   ]
  },
  {
   "cell_type": "code",
   "execution_count": null,
   "metadata": {},
   "outputs": [],
   "source": []
  },
  {
   "cell_type": "code",
   "execution_count": null,
   "metadata": {},
   "outputs": [],
   "source": []
  }
 ],
 "metadata": {
  "kernelspec": {
   "display_name": "Python 3",
   "language": "python",
   "name": "python3"
  },
  "language_info": {
   "codemirror_mode": {
    "name": "ipython",
    "version": 3
   },
   "file_extension": ".py",
   "mimetype": "text/x-python",
   "name": "python",
   "nbconvert_exporter": "python",
   "pygments_lexer": "ipython3",
   "version": "3.12.4"
  }
 },
 "nbformat": 4,
 "nbformat_minor": 2
}
